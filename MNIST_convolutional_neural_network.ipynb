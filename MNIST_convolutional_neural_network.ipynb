{
  "nbformat": 4,
  "nbformat_minor": 0,
  "metadata": {
    "colab": {
      "provenance": []
    },
    "kernelspec": {
      "name": "python3",
      "display_name": "Python 3"
    }
  },
  "cells": [
    {
      "cell_type": "markdown",
      "metadata": {
        "id": "3DR-eO17geWu"
      },
      "source": [
        "# Convolutional Neural Network"
      ]
    },
    {
      "cell_type": "markdown",
      "metadata": {
        "id": "EMefrVPCg-60"
      },
      "source": [
        "### Importing the libraries"
      ]
    },
    {
      "cell_type": "code",
      "source": [
        "import tensorflow as tf\n",
        "from tensorflow.keras.datasets import mnist\n",
        "from tensorflow.keras.preprocessing.image import ImageDataGenerator"
      ],
      "metadata": {
        "id": "mHR_VmGDjajg"
      },
      "execution_count": 1,
      "outputs": []
    },
    {
      "cell_type": "markdown",
      "metadata": {
        "id": "oxQxCBWyoGPE"
      },
      "source": [
        "## Part 1 - Data Preprocessing"
      ]
    },
    {
      "cell_type": "markdown",
      "metadata": {
        "id": "MvE-heJNo3GG"
      },
      "source": [
        "### Preprocessing the Training set"
      ]
    },
    {
      "cell_type": "markdown",
      "metadata": {
        "id": "mrCMmGw9pHys"
      },
      "source": [
        "### Preprocessing the Test set"
      ]
    },
    {
      "cell_type": "code",
      "source": [
        "# Load the MNIST dataset\n",
        "(X_train, y_train), (X_test, y_test) = mnist.load_data()\n",
        "\n",
        "# Reshape and normalize the data\n",
        "X_train = X_train.reshape(X_train.shape[0], 28, 28, 1).astype('float32')\n",
        "X_test = X_test.reshape(X_test.shape[0], 28, 28, 1).astype('float32')\n",
        "\n",
        "# Normalize pixel values\n",
        "X_train /= 255\n",
        "X_test /= 255\n",
        "\n",
        "# One-hot encode the labels\n",
        "y_train = tf.keras.utils.to_categorical(y_train, 10)\n",
        "y_test = tf.keras.utils.to_categorical(y_test, 10)"
      ],
      "metadata": {
        "colab": {
          "base_uri": "https://localhost:8080/"
        },
        "id": "vMAO0dKujptk",
        "outputId": "6d9329a3-cf8a-4727-9afe-e4ccfbc89890"
      },
      "execution_count": 2,
      "outputs": [
        {
          "output_type": "stream",
          "name": "stdout",
          "text": [
            "Downloading data from https://storage.googleapis.com/tensorflow/tf-keras-datasets/mnist.npz\n",
            "11490434/11490434 [==============================] - 0s 0us/step\n"
          ]
        }
      ]
    },
    {
      "cell_type": "markdown",
      "metadata": {
        "id": "af8O4l90gk7B"
      },
      "source": [
        "## Part 2 - Building the CNN"
      ]
    },
    {
      "cell_type": "markdown",
      "metadata": {
        "id": "ces1gXY2lmoX"
      },
      "source": [
        "### Initialising the CNN"
      ]
    },
    {
      "cell_type": "code",
      "source": [
        "cnn = tf.keras.models.Sequential()"
      ],
      "metadata": {
        "id": "QztGMqA6j4g7"
      },
      "execution_count": 3,
      "outputs": []
    },
    {
      "cell_type": "markdown",
      "metadata": {
        "id": "u5YJj_XMl5LF"
      },
      "source": [
        "### Step 1 - Convolution"
      ]
    },
    {
      "cell_type": "code",
      "source": [
        "cnn.add(tf.keras.layers.Conv2D(filters=32, kernel_size=3, activation='relu', input_shape=[28, 28, 1]))"
      ],
      "metadata": {
        "id": "9AsqVwTDj5yo"
      },
      "execution_count": 4,
      "outputs": []
    },
    {
      "cell_type": "markdown",
      "source": [
        "Using a 3x3 kernel with 32 filters. The input shape is [28, 28, 1] because MNIST images are 28x28 pixels with 1 channel (grayscale)."
      ],
      "metadata": {
        "id": "LXJhRxCEj78u"
      }
    },
    {
      "cell_type": "markdown",
      "metadata": {
        "id": "tf87FpvxmNOJ"
      },
      "source": [
        "### Step 2 - Pooling"
      ]
    },
    {
      "cell_type": "code",
      "source": [
        "cnn.add(tf.keras.layers.MaxPool2D(pool_size=2, strides=2))"
      ],
      "metadata": {
        "id": "0WwiNaRUj_hx"
      },
      "execution_count": 5,
      "outputs": []
    },
    {
      "cell_type": "markdown",
      "metadata": {
        "id": "xaTOgD8rm4mU"
      },
      "source": [
        "### Adding a second convolutional layer"
      ]
    },
    {
      "cell_type": "code",
      "source": [
        "cnn.add(tf.keras.layers.Conv2D(filters=64, kernel_size=3, activation='relu'))\n",
        "cnn.add(tf.keras.layers.MaxPool2D(pool_size=2, strides=2))"
      ],
      "metadata": {
        "id": "wGnGb0KbkBrL"
      },
      "execution_count": 6,
      "outputs": []
    },
    {
      "cell_type": "markdown",
      "metadata": {
        "id": "tmiEuvTunKfk"
      },
      "source": [
        "### Step 3 - Flattening"
      ]
    },
    {
      "cell_type": "code",
      "source": [
        "cnn.add(tf.keras.layers.Flatten())"
      ],
      "metadata": {
        "id": "EgcSJ53gkErd"
      },
      "execution_count": 7,
      "outputs": []
    },
    {
      "cell_type": "markdown",
      "metadata": {
        "id": "dAoSECOm203v"
      },
      "source": [
        "### Step 4 - Full Connection"
      ]
    },
    {
      "cell_type": "code",
      "source": [
        "cnn.add(tf.keras.layers.Dense(units=128, activation='relu'))"
      ],
      "metadata": {
        "id": "au1UkU9jkGeP"
      },
      "execution_count": 8,
      "outputs": []
    },
    {
      "cell_type": "markdown",
      "metadata": {
        "id": "yTldFvbX28Na"
      },
      "source": [
        "### Step 5 - Output Layer"
      ]
    },
    {
      "cell_type": "code",
      "source": [
        "cnn.add(tf.keras.layers.Dense(units=10, activation='softmax'))"
      ],
      "metadata": {
        "id": "LxG9z16YkIsw"
      },
      "execution_count": 9,
      "outputs": []
    },
    {
      "cell_type": "markdown",
      "metadata": {
        "id": "D6XkI90snSDl"
      },
      "source": [
        "## Part 3 - Training the CNN"
      ]
    },
    {
      "cell_type": "markdown",
      "metadata": {
        "id": "vfrFQACEnc6i"
      },
      "source": [
        "### Compiling the CNN"
      ]
    },
    {
      "cell_type": "code",
      "source": [
        "cnn.compile(optimizer='adam', loss='categorical_crossentropy', metrics=['accuracy'])"
      ],
      "metadata": {
        "id": "LSRks2oIkRVy"
      },
      "execution_count": 10,
      "outputs": []
    },
    {
      "cell_type": "markdown",
      "metadata": {
        "id": "ehS-v3MIpX2h"
      },
      "source": [
        "### Training the CNN on the Training set and evaluating it on the Test set"
      ]
    },
    {
      "cell_type": "code",
      "source": [
        "cnn.fit(X_train, y_train, validation_data=(X_test, y_test), epochs=25, batch_size=32)"
      ],
      "metadata": {
        "colab": {
          "base_uri": "https://localhost:8080/"
        },
        "id": "JQhuGnXQkSi3",
        "outputId": "4ec000b3-f774-473a-be83-9daf6efcc916"
      },
      "execution_count": 11,
      "outputs": [
        {
          "output_type": "stream",
          "name": "stdout",
          "text": [
            "Epoch 1/25\n",
            "1875/1875 [==============================] - 57s 30ms/step - loss: 0.1300 - accuracy: 0.9597 - val_loss: 0.0503 - val_accuracy: 0.9834\n",
            "Epoch 2/25\n",
            "1875/1875 [==============================] - 52s 28ms/step - loss: 0.0423 - accuracy: 0.9870 - val_loss: 0.0351 - val_accuracy: 0.9897\n",
            "Epoch 3/25\n",
            "1875/1875 [==============================] - 54s 29ms/step - loss: 0.0280 - accuracy: 0.9910 - val_loss: 0.0355 - val_accuracy: 0.9899\n",
            "Epoch 4/25\n",
            "1875/1875 [==============================] - 55s 29ms/step - loss: 0.0203 - accuracy: 0.9936 - val_loss: 0.0339 - val_accuracy: 0.9904\n",
            "Epoch 5/25\n",
            "1875/1875 [==============================] - 53s 28ms/step - loss: 0.0155 - accuracy: 0.9947 - val_loss: 0.0278 - val_accuracy: 0.9914\n",
            "Epoch 6/25\n",
            "1875/1875 [==============================] - 54s 29ms/step - loss: 0.0120 - accuracy: 0.9962 - val_loss: 0.0359 - val_accuracy: 0.9906\n",
            "Epoch 7/25\n",
            "1875/1875 [==============================] - 54s 29ms/step - loss: 0.0103 - accuracy: 0.9965 - val_loss: 0.0357 - val_accuracy: 0.9911\n",
            "Epoch 8/25\n",
            "1875/1875 [==============================] - 54s 29ms/step - loss: 0.0074 - accuracy: 0.9972 - val_loss: 0.0417 - val_accuracy: 0.9909\n",
            "Epoch 9/25\n",
            "1875/1875 [==============================] - 54s 29ms/step - loss: 0.0079 - accuracy: 0.9974 - val_loss: 0.0415 - val_accuracy: 0.9899\n",
            "Epoch 10/25\n",
            "1875/1875 [==============================] - 54s 29ms/step - loss: 0.0057 - accuracy: 0.9981 - val_loss: 0.0526 - val_accuracy: 0.9892\n",
            "Epoch 11/25\n",
            "1875/1875 [==============================] - 54s 29ms/step - loss: 0.0050 - accuracy: 0.9984 - val_loss: 0.0396 - val_accuracy: 0.9912\n",
            "Epoch 12/25\n",
            "1875/1875 [==============================] - 54s 29ms/step - loss: 0.0055 - accuracy: 0.9982 - val_loss: 0.0490 - val_accuracy: 0.9898\n",
            "Epoch 13/25\n",
            "1875/1875 [==============================] - 53s 28ms/step - loss: 0.0045 - accuracy: 0.9984 - val_loss: 0.0484 - val_accuracy: 0.9905\n",
            "Epoch 14/25\n",
            "1875/1875 [==============================] - 56s 30ms/step - loss: 0.0046 - accuracy: 0.9983 - val_loss: 0.0412 - val_accuracy: 0.9916\n",
            "Epoch 15/25\n",
            "1875/1875 [==============================] - 54s 29ms/step - loss: 0.0038 - accuracy: 0.9987 - val_loss: 0.0365 - val_accuracy: 0.9922\n",
            "Epoch 16/25\n",
            "1875/1875 [==============================] - 51s 27ms/step - loss: 0.0036 - accuracy: 0.9988 - val_loss: 0.0424 - val_accuracy: 0.9921\n",
            "Epoch 17/25\n",
            "1875/1875 [==============================] - 56s 30ms/step - loss: 0.0034 - accuracy: 0.9990 - val_loss: 0.0477 - val_accuracy: 0.9915\n",
            "Epoch 18/25\n",
            "1875/1875 [==============================] - 53s 28ms/step - loss: 0.0038 - accuracy: 0.9988 - val_loss: 0.0541 - val_accuracy: 0.9899\n",
            "Epoch 19/25\n",
            "1875/1875 [==============================] - 53s 28ms/step - loss: 0.0035 - accuracy: 0.9988 - val_loss: 0.0595 - val_accuracy: 0.9903\n",
            "Epoch 20/25\n",
            "1875/1875 [==============================] - 55s 29ms/step - loss: 0.0028 - accuracy: 0.9992 - val_loss: 0.0744 - val_accuracy: 0.9888\n",
            "Epoch 21/25\n",
            "1875/1875 [==============================] - 52s 28ms/step - loss: 0.0041 - accuracy: 0.9987 - val_loss: 0.0513 - val_accuracy: 0.9923\n",
            "Epoch 22/25\n",
            "1875/1875 [==============================] - 54s 29ms/step - loss: 0.0027 - accuracy: 0.9992 - val_loss: 0.0612 - val_accuracy: 0.9914\n",
            "Epoch 23/25\n",
            "1875/1875 [==============================] - 56s 30ms/step - loss: 0.0028 - accuracy: 0.9990 - val_loss: 0.0554 - val_accuracy: 0.9920\n",
            "Epoch 24/25\n",
            "1875/1875 [==============================] - 53s 28ms/step - loss: 0.0026 - accuracy: 0.9992 - val_loss: 0.0567 - val_accuracy: 0.9912\n",
            "Epoch 25/25\n",
            "1875/1875 [==============================] - 53s 28ms/step - loss: 0.0036 - accuracy: 0.9990 - val_loss: 0.0563 - val_accuracy: 0.9922\n"
          ]
        },
        {
          "output_type": "execute_result",
          "data": {
            "text/plain": [
              "<keras.src.callbacks.History at 0x7c4cbbec3430>"
            ]
          },
          "metadata": {},
          "execution_count": 11
        }
      ]
    },
    {
      "cell_type": "markdown",
      "metadata": {
        "id": "U3PZasO0006Z"
      },
      "source": [
        "## Part 4 - Making a single prediction"
      ]
    },
    {
      "cell_type": "code",
      "source": [
        "import numpy as np\n",
        "import matplotlib.pyplot as plt\n",
        "\n",
        "index = np.random.randint(0, len(X_test))\n",
        "test_image = X_test[index]\n",
        "test_label = y_test[index]\n",
        "\n",
        "input_image = np.expand_dims(test_image, axis=0)\n",
        "\n",
        "result = cnn.predict(input_image)\n",
        "predicted_digit = np.argmax(result)\n",
        "actual_digit = np.argmax(test_label)\n",
        "\n",
        "plt.imshow(test_image.reshape(28, 28), cmap='gray')\n",
        "plt.title(f\"Predicted: {predicted_digit}, Actual: {actual_digit}\")\n",
        "plt.axis('off')\n",
        "plt.show()\n",
        "\n",
        "print(f\"The predicted digit is: {predicted_digit}\")\n",
        "print(f\"The actual digit is: {actual_digit}\")"
      ],
      "metadata": {
        "colab": {
          "base_uri": "https://localhost:8080/",
          "height": 482
        },
        "id": "5Gk_k4NmqI7Q",
        "outputId": "03268e56-7945-4150-dcb0-3a669f5e4884"
      },
      "execution_count": 13,
      "outputs": [
        {
          "output_type": "stream",
          "name": "stdout",
          "text": [
            "1/1 [==============================] - 0s 29ms/step\n"
          ]
        },
        {
          "output_type": "display_data",
          "data": {
            "text/plain": [
              "<Figure size 640x480 with 1 Axes>"
            ],
            "image/png": "[encoded data removed]"
          },
          "metadata": {}
        },
        {
          "output_type": "stream",
          "name": "stdout",
          "text": [
            "The predicted digit is: 7\n",
            "The actual digit is: 7\n"
          ]
        }
      ]
    }
  ]
}